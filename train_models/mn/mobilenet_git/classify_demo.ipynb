{
 "cells": [
  {
   "cell_type": "code",
   "execution_count": 8,
   "metadata": {
    "collapsed": false
   },
   "outputs": [],
   "source": [
    "import tensorflow as tf\n",
    "from mobilenet_v2 import mobilenetv2\n",
    "from utils import preprocess\n",
    "\n",
    "import os\n",
    "import time\n",
    "import numpy as np\n",
    "from scipy.misc import imread, imresize"
   ]
  },
  {
   "cell_type": "markdown",
   "metadata": {},
   "source": [
    "## constant variables"
   ]
  },
  {
   "cell_type": "code",
   "execution_count": 2,
   "metadata": {
    "collapsed": true
   },
   "outputs": [],
   "source": [
    "image_height=224\n",
    "image_width=224\n",
    "num_classes=2\n",
    "ckpt_dir='./checkpoints'"
   ]
  },
  {
   "cell_type": "markdown",
   "metadata": {},
   "source": [
    "## define model"
   ]
  },
  {
   "cell_type": "code",
   "execution_count": null,
   "metadata": {
    "collapsed": true
   },
   "outputs": [],
   "source": [
    "inputs = tf.placeholder(tf.float32, [None, image_height, image_width, 3], name='inputs')\n",
    "logits, pred=mobilenetv2(inputs, num_classes, is_train=False)"
   ]
  },
  {
   "cell_type": "markdown",
   "metadata": {},
   "source": [
    "## load ckpt"
   ]
  },
  {
   "cell_type": "code",
   "execution_count": 3,
   "metadata": {
    "collapsed": false
   },
   "outputs": [
    {
     "name": "stdout",
     "output_type": "stream",
     "text": [
      "INFO:tensorflow:Restoring parameters from ./checkpoints/mobilenetv2-120\n",
      "[*] Success to read mobilenetv2-120\n"
     ]
    }
   ],
   "source": [
    "sess=tf.Session()\n",
    "saver=tf.train.Saver()\n",
    "ckpt = tf.train.get_checkpoint_state(ckpt_dir)\n",
    "if ckpt and ckpt.model_checkpoint_path:\n",
    "    ckpt_name = os.path.basename(ckpt.model_checkpoint_path)\n",
    "    saver.restore(sess, os.path.join(ckpt_dir, ckpt_name))\n",
    "    print(\"[*] Success to read {}\".format(ckpt_name))\n",
    "else:\n",
    "    print(\"[*] Failed to find a checkpoint\")"
   ]
  },
  {
   "cell_type": "markdown",
   "metadata": {},
   "source": [
    "## read image, preprocess and run"
   ]
  },
  {
   "cell_type": "code",
   "execution_count": 9,
   "metadata": {
    "collapsed": false
   },
   "outputs": [
    {
     "name": "stdout",
     "output_type": "stream",
     "text": [
      "float32\n",
      "prob: [ 0.7171644   0.28283563], class: 0\n",
      "time: 0.0728919506072998\n"
     ]
    }
   ],
   "source": [
    "img=imread('data/tmp/rain01.jpg')\n",
    "img = imresize(img, (image_height, image_width))\n",
    "img=preprocess(img).astype(np.float32)\n",
    "feed_dict={inputs:[img]} # use [], because we need 4-D tensor\n",
    "\n",
    "start=time.time()\n",
    "res=sess.run(pred, feed_dict=feed_dict)[0] # index 0 for batch_size\n",
    "print('prob: {}, class: {}'.format(res, np.argmax(res)))\n",
    "print('time: {}'.format(time.time()-start))"
   ]
  }
 ],
 "metadata": {
  "anaconda-cloud": {},
  "kernelspec": {
   "display_name": "Python 3",
   "language": "python",
   "name": "python3"
  },
  "language_info": {
   "codemirror_mode": {
    "name": "ipython",
    "version": 3
   },
   "file_extension": ".py",
   "mimetype": "text/x-python",
   "name": "python",
   "nbconvert_exporter": "python",
   "pygments_lexer": "ipython3",
   "version": "3.5.2"
  }
 },
 "nbformat": 4,
 "nbformat_minor": 0
}
